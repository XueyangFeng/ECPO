{
 "cells": [
  {
   "cell_type": "code",
   "execution_count": 3,
   "metadata": {},
   "outputs": [],
   "source": [
    "import json\n"
   ]
  },
  {
   "cell_type": "code",
   "execution_count": 11,
   "metadata": {},
   "outputs": [
    {
     "name": "stdout",
     "output_type": "stream",
     "text": [
      "最小的列表长度是: 2, 对应的 user_id 是: AGRG6KNLDIN2AAVKOUNZJNUD5PRA\n"
     ]
    }
   ],
   "source": [
    "# 打开文件并读取每一行作为一个字典对象\n",
    "file_path = 'persona_item_v2.jsonl'\n",
    "min_length = float('inf')  # 初始化为无穷大，便于求最小值\n",
    "# 读取文件的前几行\n",
    "# 读取文件并查找最小列表长度\n",
    "with open(file_path, 'r') as f:\n",
    "    for line in f:\n",
    "        data = json.loads(line.strip())  # 解析每一行为 JSON 对象\n",
    "        tags_list = data.get('Items', [])  # 获取 'tags' 键对应的列表，默认空列表\n",
    "        current_length = len(tags_list)\n",
    "        \n",
    "        if current_length < min_length:\n",
    "            min_length = current_length\n",
    "            min_user_id = data.get('UserID')  # 获取对应的 user_id\n",
    "\n",
    "print(f\"最小的列表长度是: {min_length}, 对应的 user_id 是: {min_user_id}\")"
   ]
  },
  {
   "cell_type": "code",
   "execution_count": 13,
   "metadata": {},
   "outputs": [
    {
     "name": "stdout",
     "output_type": "stream",
     "text": [
      "最长的列表长度是: 30, 对应的 user_id 是: AGKF6RKRPEODKFGEBX437LVW5EWA\n"
     ]
    }
   ],
   "source": [
    "max_length = -1  # 初始化为负数，便于查找最大值\n",
    "max_user_id = None  # 初始化为空，存储最大长度对应的 user_id\n",
    "\n",
    "# 读取文件并查找最大列表长度\n",
    "with open(file_path, 'r') as f:\n",
    "    for line in f:\n",
    "        data = json.loads(line.strip())  # 解析每一行为 JSON 对象\n",
    "        tags_list = data.get('Items', [])  # 获取 'tags' 键对应的列表，默认空列表\n",
    "        current_length = len(tags_list)\n",
    "        \n",
    "        if current_length > max_length:\n",
    "            max_length = current_length\n",
    "            max_user_id = data.get('UserID')  # 获取对应的 user_id\n",
    "\n",
    "print(f\"最长的列表长度是: {max_length}, 对应的 user_id 是: {max_user_id}\")"
   ]
  }
 ],
 "metadata": {
  "kernelspec": {
   "display_name": "ecpo",
   "language": "python",
   "name": "python3"
  },
  "language_info": {
   "codemirror_mode": {
    "name": "ipython",
    "version": 3
   },
   "file_extension": ".py",
   "mimetype": "text/x-python",
   "name": "python",
   "nbconvert_exporter": "python",
   "pygments_lexer": "ipython3",
   "version": "3.9.20"
  }
 },
 "nbformat": 4,
 "nbformat_minor": 2
}
