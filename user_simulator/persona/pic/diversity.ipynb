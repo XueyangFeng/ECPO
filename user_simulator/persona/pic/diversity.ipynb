{
 "cells": [
  {
   "cell_type": "code",
   "execution_count": 2,
   "metadata": {},
   "outputs": [
    {
     "name": "stdout",
     "output_type": "stream",
     "text": [
      "去重后，已计算 ROUGE-L 分数并将结果保存到 max_rouge_scores.pkl。\n"
     ]
    }
   ],
   "source": [
    "import json\n",
    "from rouge_score import rouge_scorer\n",
    "import random\n",
    "import pickle  # 用于保存变量\n",
    "\n",
    "# 1) 加载 JSONL 文件\n",
    "def load_personas(file_path):\n",
    "    personas = []\n",
    "    with open(file_path, 'r', encoding='utf-8') as file:\n",
    "        for line in file:\n",
    "            persona = json.loads(line.strip())\n",
    "            personas.append(persona)\n",
    "    return personas\n",
    "\n",
    "# 2) 提取指定字段文本数据\n",
    "def extract_all_text(persona):\n",
    "    text_data = []\n",
    "    def recursive_extract(data):\n",
    "        if isinstance(data, dict):\n",
    "            for key, value in data.items():\n",
    "                recursive_extract(value)\n",
    "        elif isinstance(data, list):\n",
    "            for item in data:\n",
    "                recursive_extract(item)\n",
    "        elif isinstance(data, str):\n",
    "            text_data.append(data)\n",
    "\n",
    "    # 仅提取 \"Persona\" 字段（原注释写\"FilledValues\"，你可按需修改）\n",
    "    recursive_extract(persona[\"Persona\"])\n",
    "    return ' '.join(text_data)\n",
    "\n",
    "# 3) 去重逻辑：如果两条 persona 的文本内容一模一样，只保留一条\n",
    "def deduplicate_personas(personas):\n",
    "    unique_personas = []\n",
    "    seen_texts = set()\n",
    "    for p in personas:\n",
    "        text = extract_all_text(p)\n",
    "        if text not in seen_texts:\n",
    "            seen_texts.add(text)\n",
    "            unique_personas.append(p)\n",
    "    return unique_personas\n",
    "\n",
    "# 4) 计算每个文件中 persona 的最大 ROUGE-L 分数\n",
    "def calculate_max_rouge_scores(personas, sample_size=5000):\n",
    "    # 随机采样\n",
    "    sample_size = min(sample_size, len(personas))\n",
    "    sampled_personas = random.sample(personas, sample_size)\n",
    "    \n",
    "    # 提取文本\n",
    "    texts = [extract_all_text(persona) for persona in sampled_personas]\n",
    "    \n",
    "    # 初始化 ROUGE 计算器\n",
    "    scorer = rouge_scorer.RougeScorer(['rougeL'], use_stemmer=True)\n",
    "    \n",
    "    max_rouge_l_scores = []\n",
    "\n",
    "    # 计算两两之间的 ROUGE-L 分数，取最大值\n",
    "    for i, text1 in enumerate(texts):\n",
    "        max_score = 0.0\n",
    "        for j, text2 in enumerate(texts):\n",
    "            if i != j:  # 不与自身比较\n",
    "                score = scorer.score(text1, text2)['rougeL'].fmeasure\n",
    "                max_score = max(max_score, score)\n",
    "        max_rouge_l_scores.append(max_score)\n",
    "\n",
    "    return max_rouge_l_scores\n",
    "\n",
    "# ==================== 主程序执行部分 ====================\n",
    "if __name__ == \"__main__\":\n",
    "    # 加载 personas 文件\n",
    "    file1_path = 'Book_test.jsonl'\n",
    "    file2_path = 'random_personas.jsonl'\n",
    "    personas_file1 = load_personas(file1_path)\n",
    "    personas_file2 = load_personas(file2_path)\n",
    "\n",
    "    # 对 persona 进行去重\n",
    "    personas_file1 = deduplicate_personas(personas_file1)\n",
    "    personas_file2 = deduplicate_personas(personas_file2)\n",
    "\n",
    "    # 计算并保存分数数据（这里 sample_size=100 仅作示例，可调整）\n",
    "    max_rouge_l_scores_file1 = calculate_max_rouge_scores(personas_file1, sample_size=100)\n",
    "    max_rouge_l_scores_file2 = calculate_max_rouge_scores(personas_file2, sample_size=100)\n",
    "\n",
    "    # 保存数据到 .pkl 文件中\n",
    "    with open(\"max_rouge_scores.pkl\", \"wb\") as f:\n",
    "        pickle.dump({\n",
    "            \"persona_scores\": max_rouge_l_scores_file1,\n",
    "            \"random_persona_scores\": max_rouge_l_scores_file2\n",
    "        }, f)\n",
    "\n",
    "    print(\"去重后，已计算 ROUGE-L 分数并将结果保存到 max_rouge_scores.pkl。\")\n"
   ]
  },
  {
   "cell_type": "code",
   "execution_count": 4,
   "metadata": {},
   "outputs": [
    {
     "data": {
      "image/png": "[encoded data removed]",
      "text/plain": [
       "<Figure size 700x330 with 1 Axes>"
      ]
     },
     "metadata": {},
     "output_type": "display_data"
    }
   ],
   "source": [
    "import matplotlib.pyplot as plt\n",
    "\n",
    "# 假设我们有两个数据集的分数\n",
    "# max_rouge_l_scores_file1 和 max_rouge_l_scores_file2 是之前计算的分数列表\n",
    "\n",
    "# 绘制在同一张图中，调整分区数量\n",
    "plt.figure(figsize=(7, 3.3))\n",
    "plt.hist(max_rouge_l_scores_file1, bins=40, range=(0, 1), alpha=0.7, color='#FFA500', label='AILO')  \n",
    "plt.hist(max_rouge_l_scores_file2, bins=40, range=(0, 1), alpha=0.7, color='#1E90FF', label='RecAgent')\n",
    "\n",
    "# 设置字体大小\n",
    "#plt.xlabel('Maximum ROUGE-L Score', fontsize=14)\n",
    "plt.ylabel('Frequency', fontsize=14)\n",
    "#plt.title('Distribution of Maximum ROUGE-L Scores', fontsize=16)\n",
    "\n",
    "# 调整图例位置到左上角\n",
    "plt.legend(loc='upper left', fontsize=14)\n",
    "\n",
    "plt.xticks(fontsize=14)\n",
    "plt.yticks(fontsize=14)\n",
    "plt.savefig('rouge_score.pdf', bbox_inches='tight', transparent=True)\n",
    "plt.show()\n"
   ]
  }
 ],
 "metadata": {
  "kernelspec": {
   "display_name": "ecpo",
   "language": "python",
   "name": "python3"
  },
  "language_info": {
   "codemirror_mode": {
    "name": "ipython",
    "version": 3
   },
   "file_extension": ".py",
   "mimetype": "text/x-python",
   "name": "python",
   "nbconvert_exporter": "python",
   "pygments_lexer": "ipython3",
   "version": "3.9.20"
  }
 },
 "nbformat": 4,
 "nbformat_minor": 2
}
