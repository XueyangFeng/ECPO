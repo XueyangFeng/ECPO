{
 "cells": [
  {
   "cell_type": "code",
   "execution_count": 3,
   "metadata": {},
   "outputs": [],
   "source": [
    "import re\n",
    "\n",
    "def remove_example_part(input_string):\n",
    "    # 使用正则表达式来匹配并删除 \"Below is an example...\" 到 \"(END OF EXAMPLES)\" 的部分\n",
    "    cleaned_string = re.sub(r'Below is an example of how to approach the task:.*?\\(END OF EXAMPLES\\)', '', input_string, flags=re.DOTALL)\n",
    "    return cleaned_string"
   ]
  },
  {
   "cell_type": "code",
   "execution_count": null,
   "metadata": {},
   "outputs": [],
   "source": [
    "import json\n",
    "\n",
    "# 打开并读取 JSONL 文件\n",
    "file_path = './CRS_scratchpad_20241223_203210.jsonl'  # 请替换为你的 JSONL 文件路径\n",
    "\n",
    "\n",
    "result_list = []  # 用来存储所有的 input-output 对象\n",
    "\n",
    "with open(file_path, 'r', encoding='utf-8') as file:\n",
    "    for line in file:\n",
    "        try:\n",
    "            # 将每行字符串解析为 Python 字典\n",
    "            data = json.loads(line)\n",
    "            if data[\"is_correct\"]:\n",
    "                # 提取 'scratchpad' 部分\n",
    "                scratchpad = data.get('scratchpad', {})\n",
    "                \n",
    "                # 遍历 scratchpad 中的每个键值对\n",
    "                for key, actions in scratchpad.items():\n",
    "                    # 遍历每个 action\n",
    "                    for action_key, action_data in actions.items():\n",
    "                        if action_key.startswith('action '):\n",
    "                            print(action_data)\n",
    "                            input_data = action_data.get('input', 'No input available')\n",
    "                            output_data = action_data.get('output', 'No output available')\n",
    "                            \n",
    "                            # 将 input 和 output 组成一个字典并添加到结果列表\n",
    "                            result_list.append({\n",
    "                                \"instruction\": remove_example_part(input_data),\n",
    "                                \"system\": \"You are a helpful assistant\",\n",
    "                                \"input\": \"\",\n",
    "                                \"output\": output_data\n",
    "                            })\n",
    "                    \n",
    "        except json.JSONDecodeError as e:\n",
    "            print(f\"解析错误：{e}\")\n",
    "\n",
    "# 输出最终的结果列表\n",
    "#print(json.dumps(result_list, indent=4))  # 美化输出，查看整个列表\n",
    "\n",
    "# 可选择保存到一个新的 JSON 文件\n",
    "output_file = './amazon_game_sft.json'  # 请替换为你想保存的路径\n",
    "with open(output_file, 'w', encoding='utf-8') as outfile:\n",
    "    json.dump(result_list, outfile, ensure_ascii=False, indent=4)\n",
    "\n"
   ]
  },
  {
   "cell_type": "code",
   "execution_count": null,
   "metadata": {},
   "outputs": [],
   "source": []
  }
 ],
 "metadata": {
  "kernelspec": {
   "display_name": "ecpo",
   "language": "python",
   "name": "python3"
  },
  "language_info": {
   "codemirror_mode": {
    "name": "ipython",
    "version": 3
   },
   "file_extension": ".py",
   "mimetype": "text/x-python",
   "name": "python",
   "nbconvert_exporter": "python",
   "pygments_lexer": "ipython3",
   "version": "3.9.20"
  }
 },
 "nbformat": 4,
 "nbformat_minor": 2
}
